{
 "cells": [
  {
   "cell_type": "markdown",
   "metadata": {},
   "source": [
    "# The Sparks Foundation - Computer Vision & IOT Internship\n",
    "# Name: Pallav Rathod\n",
    "# Task: Color Identification in Images (#GRIPJULY21)"
   ]
  },
  {
   "cell_type": "markdown",
   "metadata": {},
   "source": [
    "### Importing libraries"
   ]
  },
  {
   "cell_type": "code",
   "execution_count": 1,
   "metadata": {},
   "outputs": [],
   "source": [
    "import pandas as pd\n",
    "import cv2"
   ]
  },
  {
   "cell_type": "markdown",
   "metadata": {},
   "source": [
    "### Defining the function which takes R,G,B values as the input and give Color Name as output\n",
    "- Here, we will give RGB values as an input to the function.\n",
    "- And in the function, we will find the minimum difference between the RGB values that are given as input and values present in our colors.csv dataframe to get the almost accurate color values from which Color Name can be derived."
   ]
  },
  {
   "cell_type": "code",
   "execution_count": 2,
   "metadata": {},
   "outputs": [],
   "source": [
    "def get_color_name(R, G, B):\n",
    "    minimum = 1000\n",
    "    for i in range(len(df)):\n",
    "        d = abs(R-int(df.loc[i, 'R'])) + abs(G - int(df.loc[i, 'G'])) + abs(B-int(df.loc[i, 'B']))\n",
    "        if d <= minimum:\n",
    "            minimum = d\n",
    "            color_name = df.loc[i, 'color_name']\n",
    "    return color_name"
   ]
  },
  {
   "cell_type": "markdown",
   "metadata": {},
   "source": [
    "### Defining the function to get coordinates of mouse in image\n",
    "- When we click the left mouse button, there is a certain event in opencv called EVENT_LBUTTONDOWN event.\n",
    "- Here, if the event takes place then we will get the r,g,b values of color and x,y coordinates of cursor, and we will change all the variables to global variable to be accessible globally in the whole program."
   ]
  },
  {
   "cell_type": "code",
   "execution_count": 3,
   "metadata": {},
   "outputs": [],
   "source": [
    "def draw_function(event, x, y, flags, params):\n",
    "    global clicked, r, g, b, xpos, ypos\n",
    "    if event == cv2.EVENT_LBUTTONDOWN:\n",
    "        clicked, xpos, ypos = True, x, y\n",
    "        b, g, r = list(map(int, img[y, x]))"
   ]
  },
  {
   "cell_type": "markdown",
   "metadata": {},
   "source": [
    "### Providing Path for image, csv file and reading & resizing the image\n",
    "- Here, we will provide path for the input image and also for the csv file containing information about color and then we will read the image and resize it such that the image is clearly visible."
   ]
  },
  {
   "cell_type": "code",
   "execution_count": 4,
   "metadata": {},
   "outputs": [],
   "source": [
    "img_path = r\"C:\\Users\\Pallav\\Downloads\\Color_Idetification_in_Images\\imgs\\img4.jpg\"\n",
    "csv_path = r\"C:\\Users\\Pallav\\Downloads\\Color_Idetification_in_Images\\colors.csv\"\n",
    "img = cv2.imread(img_path)\n",
    "img = cv2.resize(img, (0, 0), fx = 0.5, fy = 0.5)"
   ]
  },
  {
   "cell_type": "markdown",
   "metadata": {},
   "source": [
    "### Creating the dataframe for colors from csv file\n",
    "- Here, the dataframe is created from csv file."
   ]
  },
  {
   "cell_type": "code",
   "execution_count": 5,
   "metadata": {},
   "outputs": [
    {
     "name": "stdout",
     "output_type": "stream",
     "text": [
      "                  color             color_name      hex    R    G    B\n",
      "0    air_force_blue_raf   Air Force Blue (Raf)  #5d8aa8   93  138  168\n",
      "1   air_force_blue_usaf  Air Force Blue (Usaf)  #00308f    0   48  143\n",
      "2  air_superiority_blue   Air Superiority Blue  #72a0c1  114  160  193\n",
      "3       alabama_crimson        Alabama Crimson  #a32638  163   38   56\n",
      "4            alice_blue             Alice Blue  #f0f8ff  240  248  255\n"
     ]
    }
   ],
   "source": [
    "index = ['color', 'color_name', 'hex', 'R', 'G', 'B']\n",
    "df = pd.read_csv(csv_path, names=index, header=None)\n",
    "print(df.head(5))"
   ]
  },
  {
   "cell_type": "markdown",
   "metadata": {},
   "source": [
    "### Creating the window to display the image"
   ]
  },
  {
   "cell_type": "code",
   "execution_count": 6,
   "metadata": {},
   "outputs": [],
   "source": [
    "cv2.namedWindow(\"Image\")\n",
    "cv2.setMouseCallback(\"Image\", draw_function)\n",
    "clicked, r, g, b, xpos, ypos = False, 0, 0, 0, 0, 0"
   ]
  },
  {
   "cell_type": "markdown",
   "metadata": {},
   "source": [
    "### Executing the code for Color Identification in Image\n",
    "- Here, by clicking on the image we will create a rectangle of identified color and creating a text for the color in the rectangle.\n",
    "- If the identified color is dark then the text will be in white color and if the identified color is light then the text color will be black.\n",
    "- And by clicking ESC button, the execution of program will stop and the program will end by clearing all windows."
   ]
  },
  {
   "cell_type": "code",
   "execution_count": 7,
   "metadata": {},
   "outputs": [],
   "source": [
    "while True:\n",
    "    cv2.imshow(\"Image\", img)\n",
    "    if clicked:\n",
    "        # cv2.rectangle(image, startpoint, endpoint, color, thickness=-1) {-1 = fills entire rectangle }\n",
    "        cv2.rectangle(img, (20, 20), (600, 60), (b, g, r), -1)\n",
    "\n",
    "        # Creating the text for showing information\n",
    "        text = get_color_name(r, g, b) + ' R:' + str(r) + ' G:' + str(g) + ' B:' + str(b)\n",
    "\n",
    "        # cv2.putText(img,text,start,font(0-7),fontScale,color,thickness,lineType )\n",
    "        cv2.putText(img, text, (50, 50), 2, 0.8, (255, 255, 255), 2, cv2.LINE_AA)\n",
    "\n",
    "        #  If the color is very light show the text in black color\n",
    "        if r+g+b >= 600:\n",
    "            cv2.putText(img, text, (50, 50), 2, 0.8, (0, 0, 0), 2, cv2.LINE_AA)\n",
    "\n",
    "    if cv2.waitKey(20) & 0xFF == 27:\n",
    "        break\n",
    "\n",
    "cv2.destroyAllWindows()"
   ]
  },
  {
   "cell_type": "markdown",
   "metadata": {},
   "source": [
    "### End of the Program"
   ]
  }
 ],
 "metadata": {
  "kernelspec": {
   "display_name": "Python 3",
   "language": "python",
   "name": "python3"
  },
  "language_info": {
   "codemirror_mode": {
    "name": "ipython",
    "version": 3
   },
   "file_extension": ".py",
   "mimetype": "text/x-python",
   "name": "python",
   "nbconvert_exporter": "python",
   "pygments_lexer": "ipython3",
   "version": "3.9.5"
  }
 },
 "nbformat": 4,
 "nbformat_minor": 4
}
